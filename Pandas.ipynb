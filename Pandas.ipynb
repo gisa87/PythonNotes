{
 "cells": [
  {
   "cell_type": "markdown",
   "metadata": {},
   "source": [
    "<!-- ---------------------------------------------------- -->\n",
    "   <div class=\"col-sm-3 col-md-3 col-lg-3\">\n",
    " \t<!-- logo -->  \n",
    "     <div class=\"img-responsive\">\n",
    "       <img src=\"img/pandas-logo.png\" title=\"Pandas Tutorial\" alt=\"Pandas Tutorial\">    \n",
    "     </div>\n",
    " \t<!-- logo -->\t\n",
    "   </div>\n",
    " <!-- ---------------------------------------------------- --> \n",
    "   <div class=\"col-sm-6 col-md-6 col-lg-6\">\n",
    " \t<!-- Pandas Tutorial -->  \n",
    " \t  <center>\n",
    " \t    <br>\n",
    "         <h1>Lezione 1</h1>\n",
    "         <br>\n",
    "         <br>\n",
    "         <strong>Creare, importare ed esportare dati con Pandas, csv ed excel </strong>\n",
    " \t  </center>\t\n",
    "     <!-- Pandas Tutorial -->\t\n",
    "   </div>\n",
    " <!-- ---------------------------------------------------- -->"
   ]
  },
  {
   "cell_type": "code",
   "execution_count": 2,
   "metadata": {},
   "outputs": [],
   "source": [
    "# importiamo le librerie necessarie per il tutorial\n",
    "from pandas import DataFrame, read_csv\n",
    "import matplotlib.pyplot as plt\n",
    "import pandas as pd \n",
    "import sys \n",
    "import matplotlib\n",
    "from pandas import ExcelWriter\n",
    "from pandas import ExcelFile\n",
    "from collections import OrderedDict\n",
    "from datetime import date\n",
    "\n",
    "# Enable inline plotting\n",
    "%matplotlib inline"
   ]
  },
  {
   "cell_type": "code",
   "execution_count": 3,
   "metadata": {},
   "outputs": [
    {
     "name": "stdout",
     "output_type": "stream",
     "text": [
      "Python version 3.7.1 (v3.7.1:260ec2c36a, Oct 20 2018, 14:05:16) [MSC v.1915 32 bit (Intel)]\n",
      "Pandas version 0.23.4\n",
      "Matplotlib version 3.0.1\n"
     ]
    }
   ],
   "source": [
    "# verifichiamo le versioni installate\n",
    "print('Python version ' + sys.version)\n",
    "print('Pandas version ' + pd.__version__)\n",
    "print('Matplotlib version ' + matplotlib.__version__)"
   ]
  },
  {
   "cell_type": "markdown",
   "metadata": {},
   "source": [
    "## Creare dati\n",
    "\n",
    "Per creare un set di dati si può partire da varie strutture come liste e dizionari."
   ]
  },
  {
   "cell_type": "code",
   "execution_count": 4,
   "metadata": {},
   "outputs": [],
   "source": [
    "nomi =  ['Bob','Jessica','Mary','John','Mel']\n",
    "nascite = [968, 155, 77, 578, 973]"
   ]
  },
  {
   "cell_type": "markdown",
   "metadata": {},
   "source": [
    "Per creare una lista di coppie di voci dalle due liste possiamo usare la funzione zip"
   ]
  },
  {
   "cell_type": "code",
   "execution_count": 5,
   "metadata": {},
   "outputs": [
    {
     "data": {
      "text/plain": [
       "[('Bob', 968), ('Jessica', 155), ('Mary', 77), ('John', 578), ('Mel', 973)]"
      ]
     },
     "execution_count": 5,
     "metadata": {},
     "output_type": "execute_result"
    }
   ],
   "source": [
    "babyDataSet = list(zip(nomi, nascite))\n",
    "babyDataSet"
   ]
  },
  {
   "cell_type": "markdown",
   "metadata": {},
   "source": [
    "Per poter sfruttare tutta la potenza di Pandas dobbiamo creare un Dataframe che funziona similmente ad un database. Per farlo utilizziamo l'apposita funzione DataFrame:"
   ]
  },
  {
   "cell_type": "code",
   "execution_count": 11,
   "metadata": {
    "scrolled": true
   },
   "outputs": [
    {
     "data": {
      "text/html": [
       "<div>\n",
       "<style>\n",
       "    .dataframe thead tr:only-child th {\n",
       "        text-align: right;\n",
       "    }\n",
       "\n",
       "    .dataframe thead th {\n",
       "        text-align: left;\n",
       "    }\n",
       "\n",
       "    .dataframe tbody tr th {\n",
       "        vertical-align: top;\n",
       "    }\n",
       "</style>\n",
       "<table border=\"1\" class=\"dataframe\">\n",
       "  <thead>\n",
       "    <tr style=\"text-align: right;\">\n",
       "      <th></th>\n",
       "      <th>Nomi</th>\n",
       "      <th>Nascite</th>\n",
       "    </tr>\n",
       "  </thead>\n",
       "  <tbody>\n",
       "    <tr>\n",
       "      <th>0</th>\n",
       "      <td>Bob</td>\n",
       "      <td>968</td>\n",
       "    </tr>\n",
       "    <tr>\n",
       "      <th>1</th>\n",
       "      <td>Jessica</td>\n",
       "      <td>155</td>\n",
       "    </tr>\n",
       "    <tr>\n",
       "      <th>2</th>\n",
       "      <td>Mary</td>\n",
       "      <td>77</td>\n",
       "    </tr>\n",
       "    <tr>\n",
       "      <th>3</th>\n",
       "      <td>John</td>\n",
       "      <td>578</td>\n",
       "    </tr>\n",
       "    <tr>\n",
       "      <th>4</th>\n",
       "      <td>Mel</td>\n",
       "      <td>973</td>\n",
       "    </tr>\n",
       "  </tbody>\n",
       "</table>\n",
       "</div>"
      ],
      "text/plain": [
       "      Nomi  Nascite\n",
       "0      Bob      968\n",
       "1  Jessica      155\n",
       "2     Mary       77\n",
       "3     John      578\n",
       "4      Mel      973"
      ]
     },
     "execution_count": 11,
     "metadata": {},
     "output_type": "execute_result"
    }
   ],
   "source": [
    "df = pd.DataFrame(data = babyDataSet, columns=['Nomi', 'Nascite'])\n",
    "df"
   ]
  },
  {
   "cell_type": "markdown",
   "metadata": {},
   "source": [
    "Come abbiamo detto esistono varie modalità per creare un dataframe. Le possibilità sono:\n",
    "+ Un dizionario\n",
    "+ Una lista\n",
    "\n",
    "A seconda se vogliamo importare per righe o per colonne esistono degli appositi metodi e le relative sorgenti di importazione vanno opportunamente formattate come possiamo vedere dall'immagine seguente:\n",
    "\n",
    "<div class=\"img-responsive\">\n",
    "       <img src=\"img/pandas-dataframe-shadow.png\" title=\"df creation\" alt=\"df creation\">    \n",
    "</div>\n",
    "\n",
    "Come si vede i metodi utilizzati sono:\n",
    "+ from_dict\n",
    "+ from_records\n",
    "+ from_items\n",
    "+ DataFrame\n",
    "\n",
    "Vediamo nel dettaglio qualche esempio. In ognuno vogliamo elaborare l'andamento della temperatura media mensile in tre località\n",
    "\n",
    "|ID|Località|Gen|Feb|Mar|\n",
    "|---:|---:|---:|---:|---:|\n",
    "|0|Trento|9|10|15|\n",
    "|1|Bolzano|8|11|13|\n",
    "|2|Laives|7|9|11|\n",
    "\n",
    "### Da dizionario per righe - DataFrame\n",
    "\n",
    "Il modo \"standard\" di creare un dataframe è partire da un dizionario in cui ogni elemento è composto da una label per ogni colonna e una key per ogni elemento di riga.\n",
    "In questo caso la creazione del dataframe avviene tramite il metodo standard `DataFrame`"
   ]
  },
  {
   "cell_type": "code",
   "execution_count": 11,
   "metadata": {},
   "outputs": [
    {
     "name": "stdout",
     "output_type": "stream",
     "text": [
      "   Feb  Gen Località  Mar\n",
      "0   10    9   Trento   15\n",
      "1   11    8  Bolzano   13\n",
      "2    9    7   Laives   11\n"
     ]
    }
   ],
   "source": [
    "temperature = [{'Località':'Trento', 'Gen':9, 'Feb':10, 'Mar':15},\n",
    "               {'Località':'Bolzano', 'Gen':8, 'Feb':11, 'Mar':13},\n",
    "               {'Località':'Laives', 'Gen':7, 'Feb':9, 'Mar':11}]\n",
    "df = pd.DataFrame(temperature)\n",
    "print(df)"
   ]
  },
  {
   "cell_type": "markdown",
   "metadata": {},
   "source": [
    "### Da dizionario, per colonne - from_dict\n",
    "\n",
    "Se invece di voler scrivere riga per volta il dizionario, specificando ogni volta ogni colonna con le label, vogliamo creare un array per ogni colonna possiamo utilizzare il metodo `from_dict` per importare i dati nel dataframe"
   ]
  },
  {
   "cell_type": "code",
   "execution_count": 8,
   "metadata": {},
   "outputs": [
    {
     "name": "stdout",
     "output_type": "stream",
     "text": [
      "   Feb  Gen Località  Mar\n",
      "0   10    9   Trento   15\n",
      "1   11    8  Bolzano   13\n",
      "2    9    7   Laives   11\n"
     ]
    }
   ],
   "source": [
    "temperature = {'Località':['Trento', 'Bolzano','Laives'],\n",
    "               'Gen':[9, 8, 7],\n",
    "               'Feb':[10, 11, 9],\n",
    "               'Mar':[15, 13, 11]}\n",
    "df = pd.DataFrame.from_dict(temperature)\n",
    "print(df)"
   ]
  },
  {
   "cell_type": "markdown",
   "metadata": {},
   "source": [
    "Siccome python non mantiene l'ordine delle label nei dizionari, le colonne sono disordinate rispetto a quello che abbiamo definito costruendo il set di dati. Per sistemare questo problema ci basta riordinare manualmente le colonne:"
   ]
  },
  {
   "cell_type": "code",
   "execution_count": 9,
   "metadata": {},
   "outputs": [
    {
     "name": "stdout",
     "output_type": "stream",
     "text": [
      "  Località  Gen  Feb  Mar\n",
      "0   Trento    9   10   15\n",
      "1  Bolzano    8   11   13\n",
      "2   Laives    7    9   11\n"
     ]
    }
   ],
   "source": [
    "df = df[['Località', 'Gen', 'Feb', 'Mar']]\n",
    "print(df)"
   ]
  },
  {
   "cell_type": "markdown",
   "metadata": {},
   "source": [
    "### Da lista, per righe - from_records\n",
    "\n",
    "Similmente al dizionario, con le liste lavoriamo nidificando liste di liste. Lavorando per righe ogni lista nella lista rappresenta una riga:"
   ]
  },
  {
   "cell_type": "code",
   "execution_count": 12,
   "metadata": {},
   "outputs": [
    {
     "name": "stdout",
     "output_type": "stream",
     "text": [
      "  Località  Gen  Feb  Mar\n",
      "0   Trento    9   10   15\n",
      "1  Bolzano    8   11   13\n",
      "2   Laives    7    9   11\n"
     ]
    }
   ],
   "source": [
    "temperature = [['Trento', 9, 10, 15],\n",
    "               ['Bolzano', 8, 11, 13],\n",
    "               ['Laives', 7, 9, 11]]\n",
    "labels = ['Località', 'Gen', 'Feb', 'Mar']\n",
    "df = pd.DataFrame.from_records(temperature, columns=labels)\n",
    "print(df)"
   ]
  },
  {
   "cell_type": "markdown",
   "metadata": {},
   "source": [
    "### Da lista, per colonne - from_items\n",
    "\n",
    "Infine per importare un dataframe da una lista per colonne dobbiamo nidificare una lista, che rappresenta una riga, in una lista il cui primo elemento è l'etichetta della colonna."
   ]
  },
  {
   "cell_type": "code",
   "execution_count": 4,
   "metadata": {},
   "outputs": [
    {
     "name": "stdout",
     "output_type": "stream",
     "text": [
      "  Località  Gen  Feb  Mar\n",
      "0   Trento    9   10   15\n",
      "1  Bolzano    8   11   13\n",
      "2   Laives    7    9   11\n"
     ]
    }
   ],
   "source": [
    "temperature = [['Località', ['Trento', 'Bolzano','Laives']],\n",
    "               ['Gen', [9, 8, 7]],\n",
    "               ['Feb', [10, 11, 9]],\n",
    "               ['Mar', [15, 13, 11]]]\n",
    "df = pd.DataFrame.from_items(temperature)\n",
    "print(df)"
   ]
  },
  {
   "cell_type": "markdown",
   "metadata": {},
   "source": [
    "## Esportare i dati in csv\n",
    "\n",
    "Per esportare i dati in csv utilizziamo la funzione apposita di Pandas to_csv. Per non far esportare gli indici e l'header basta utilizzare le apposite opzioni <b><i>index</b></i> e <b><i>header</b></i>:"
   ]
  },
  {
   "cell_type": "code",
   "execution_count": null,
   "metadata": {
    "collapsed": true
   },
   "outputs": [],
   "source": [
    "df.to_csv('output.csv', index=False, header=False)"
   ]
  },
  {
   "cell_type": "markdown",
   "metadata": {},
   "source": [
    "## Importare i dati\n",
    "\n",
    "Spesso i dati su cui vogliamo lavorare sono salvati in files con diversi possibili formati, come ad esempio csv, excel, txt, sql etc.\n",
    "Per ognuno Pandas prevede la possibilità di importazione in un dataframe. Se i dati sorgente sono correttamente formattati l'operazione risulta abbastanza semplice ed immediata:\n",
    "\n",
    "+ read_csv\n",
    "+ read_csv\n",
    "+ read_sql"
   ]
  },
  {
   "cell_type": "markdown",
   "metadata": {},
   "source": [
    "## Esportare i dati in excel\n",
    "\n",
    "Esportare un dataframe da Pandas a Excelè abbastanza semplice grazie al metodo to_excel:"
   ]
  },
  {
   "cell_type": "code",
   "execution_count": 5,
   "metadata": {},
   "outputs": [],
   "source": [
    "writer = ExcelWriter('outToExcel.xlsx')\n",
    "df.to_excel(writer,'Sheet1',index=False)\n",
    "writer.save()"
   ]
  },
  {
   "cell_type": "code",
   "execution_count": null,
   "metadata": {},
   "outputs": [],
   "source": []
  }
 ],
 "metadata": {
  "kernelspec": {
   "display_name": "Python 3",
   "language": "python",
   "name": "python3"
  },
  "language_info": {
   "codemirror_mode": {
    "name": "ipython",
    "version": 3
   },
   "file_extension": ".py",
   "mimetype": "text/x-python",
   "name": "python",
   "nbconvert_exporter": "python",
   "pygments_lexer": "ipython3",
   "version": "3.7.1"
  }
 },
 "nbformat": 4,
 "nbformat_minor": 2
}
