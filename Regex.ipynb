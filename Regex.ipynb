{
 "cells": [
  {
   "cell_type": "markdown",
   "metadata": {},
   "source": [
    "<h1>Regex</h1>\n",
    "\n",
    "Le espressioni regolari (o regex) permettono di cercare efficentemente pattern alfanumerici in maniera efficiente e strutturata.\n",
    "\n",
    "<h2> Cheatsheet </h2>"
   ]
  },
  {
   "cell_type": "markdown",
   "metadata": {},
   "source": [
    "|Simbolo|Significato|\n",
    "|:---:|---|\n",
    "|()|Gruppo|\n",
    "|(\\|)|Match uno o l'altro (il primo che trovi)|\n",
    "|{n}|Espressione ripetuta n volte|\n",
    "|()?|Ricerca opzionale ex. r'Bat(wo)?man'|\n",
    "|()\\*|Zero o più ripetizioni del gruppo|\n",
    "|()+|Una o più ripetizioni del gruppo|\n",
    "|(){n}|Gruppo ripetuto esattamente n volte|\n",
    "|(){n,m}|Gruppo ripetuto esattamente da n a m volte|\n",
    "|\\[n-m\\]|Tutti i caratteri / numeri compresi fra n e m|\n",
    "|\\[abc\\]|I caratteri specificati nella parentesi|\n",
    "|\\[^abc\\]|^nella parentesi nega tutto quello che è contenuto = cerca tutto quello che NON è nella parentesi|\n",
    "|^|(messo all'inizio della regex) Il match deve avvenire all'inizio della stringa|\n",
    "|$|(messo alla fine della regex) Il match deve avvenire alla fine della stringa|\n",
    "|.|Qualsiasi carattere eccetto \\n|\n",
    "|*|Zero o più ripetizioni dei caratteri precedenti|\n",
    "|.*|Tutto|"
   ]
  },
  {
   "cell_type": "markdown",
   "metadata": {},
   "source": [
    "Per utilizzare una regex utilizziamo la libreria 're'\n",
    "\n",
    "Il funzionamento è semplice. Prima si crea un modello compilandolo. Una volta create il modello si può applicare a qualsiasi testo:"
   ]
  },
  {
   "cell_type": "code",
   "execution_count": 2,
   "metadata": {},
   "outputs": [
    {
     "name": "stdout",
     "output_type": "stream",
     "text": [
      "<re.Match object; span=(27, 40), match='123-1111-6788'>\n"
     ]
    }
   ],
   "source": [
    "import re\n",
    "\n",
    "numeroTelefonico = re.compile(r'(\\d{3})-(\\d{4})-(\\d{4})')\n",
    "modello = numeroTelefonico.search('Il mio numero telefonico è 123-1111-6788')\n",
    "\n",
    "print(modello)"
   ]
  },
  {
   "cell_type": "markdown",
   "metadata": {},
   "source": [
    "Il modello restituito dalla ricerca è in realtà un oggetto contenente tutti i possibili match nella stringa. Stampando i singoli gruppi troviamo tutti i  match cercati:"
   ]
  },
  {
   "cell_type": "code",
   "execution_count": 4,
   "metadata": {},
   "outputs": [
    {
     "name": "stdout",
     "output_type": "stream",
     "text": [
      "123-1111-6788\n",
      "123\n",
      "1111\n",
      "6788\n"
     ]
    }
   ],
   "source": [
    "print(modello.group(0))\n",
    "print(modello.group(1))\n",
    "print(modello.group(2))\n",
    "print(modello.group(3))"
   ]
  },
  {
   "cell_type": "markdown",
   "metadata": {},
   "source": [
    "Il metodo search cerca nella stringa e resistuisce solo la prima istanza trovata. Se nella regex sono isolati dei gruppi (tramite parentesi) il primo è il match completo, i successivi solo i sottogruppi.\n",
    "\n",
    "Se si vogliono trovare tutte le istanze nella stringa si può usare il metodo 'findall'. Questo crea una lista con tutte le istanze trovate. Se nella regex ci sono dei gruppi questi vengono spacchetati come tuple nella lista."
   ]
  },
  {
   "cell_type": "code",
   "execution_count": null,
   "metadata": {},
   "outputs": [],
   "source": []
  }
 ],
 "metadata": {
  "kernelspec": {
   "display_name": "Python 3",
   "language": "python",
   "name": "python3"
  },
  "language_info": {
   "codemirror_mode": {
    "name": "ipython",
    "version": 3
   },
   "file_extension": ".py",
   "mimetype": "text/x-python",
   "name": "python",
   "nbconvert_exporter": "python",
   "pygments_lexer": "ipython3",
   "version": "3.7.1"
  }
 },
 "nbformat": 4,
 "nbformat_minor": 2
}
